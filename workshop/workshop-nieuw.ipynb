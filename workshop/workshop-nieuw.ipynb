{
 "cells": [
  {
   "cell_type": "markdown",
   "metadata": {
    "tags": []
   },
   "source": [
    "# Predicting failing cable connections with a classification model"
   ]
  },
  {
   "cell_type": "markdown",
   "metadata": {},
   "source": [
    "# Introduction\n",
    "Our powergrid is an intricate network of cables/lines and stations that transport electricity from powerplants, solar parcs, wind parc, etc. to your e.g. your home. Within this network the cables are connected using cable connections (or 'Moffen' in Dutch). A range of connection types are used in our grid as these have improved over time. Older connections might experience failure due to a range of conditions. One of Alliander's main objectives is to have a reliable grid. Therefore, it is important to know which connection types are prone to failire in order to prevent power failures. \n",
    "\n",
    "Today, Alliander is going to ask you to come up with a way to predict connections failures using classification models. We know that connections fail due to due large temperature variations and cause short circuits. The failure of cable connections is difficult to determine. However, we know that there is a relationship between a connection failure and the depth of a connection, the connection type, soil type and groundwater levels. We also know that connection type is the most dominant factor to connection failures.\n",
    "\n",
    "Using the information supplied above and the supplied dataset containing information on the cable connections present in our grid, try to come up with a classification models that predicts the failure of cable connections.\n",
    "\n",
    "To Do: hypothesen toevoegen"
   ]
  },
  {
   "cell_type": "markdown",
   "metadata": {},
   "source": [
    "**Contents:**\n",
    "1. [Install packages and load the data](#1)\n",
    "1. [Data Exploration](#2)\n",
    "1. [Preparation of the data](#3)\n",
    "1. [Analysis ](#4)\n",
    "1. [Split train- and testset](#5)\n",
    "1. [Train en validate the models](#6)\n"
   ]
  },
  {
   "cell_type": "markdown",
   "metadata": {},
   "source": [
    "<a id=\"1\"></a> \n",
    "\n",
    "## 1. Import packages and load the data"
   ]
  },
  {
   "cell_type": "code",
   "execution_count": null,
   "metadata": {
    "tags": []
   },
   "outputs": [],
   "source": [
    "import math\n",
    "import matplotlib.pyplot as plt\n",
    "import pandas as pd\n",
    "import seaborn as sns\n",
    "import sklearn\n",
    "import sklearn.ensemble\n",
    "import sklearn.model_selection\n",
    "import sklearn.tree\n",
    "import xgboost as xgb"
   ]
  },
  {
   "cell_type": "code",
   "execution_count": null,
   "metadata": {
    "tags": []
   },
   "outputs": [],
   "source": [
    "# Set plotly as panda's default way of plotting\n",
    "pd.options.plotting.backend = \"plotly\""
   ]
  },
  {
   "cell_type": "code",
   "execution_count": null,
   "metadata": {
    "tags": []
   },
   "outputs": [],
   "source": [
    "# Load data as a DataFrame\n",
    "df = pd.read_csv(\"data/dataset-2.csv\")"
   ]
  },
  {
   "cell_type": "markdown",
   "metadata": {},
   "source": [
    "<a id=\"2\"></a> \n",
    "\n",
    "\n",
    "## 2. Data Exploration"
   ]
  },
  {
   "cell_type": "markdown",
   "metadata": {
    "tags": []
   },
   "source": [
    "#### 2.1 First insights in the dataset!"
   ]
  },
  {
   "cell_type": "code",
   "execution_count": null,
   "metadata": {
    "tags": []
   },
   "outputs": [],
   "source": [
    "# First view of the data\n",
    "df.head(10)"
   ]
  },
  {
   "cell_type": "code",
   "execution_count": null,
   "metadata": {
    "tags": []
   },
   "outputs": [],
   "source": [
    "# Print the number of rows and columns\n",
    "print('nrow:', df.shape[0])\n",
    "print('ncols:', df.shape[1])"
   ]
  },
  {
   "cell_type": "code",
   "execution_count": null,
   "metadata": {
    "tags": []
   },
   "outputs": [],
   "source": [
    "# Show a short statistical summary for the numeric values in the dataframe\n",
    "df.describe()"
   ]
  },
  {
   "cell_type": "code",
   "execution_count": null,
   "metadata": {
    "tags": []
   },
   "outputs": [],
   "source": [
    "# Show data types for each column\n",
    "df.dtypes"
   ]
  },
  {
   "cell_type": "markdown",
   "metadata": {
    "tags": []
   },
   "source": [
    "#### 2.2 Analyse the variable we try to predict"
   ]
  },
  {
   "cell_type": "code",
   "execution_count": null,
   "metadata": {
    "tags": []
   },
   "outputs": [],
   "source": [
    "# Analyse the variable we try to predict\n",
    "df[\"FAILURE\"].value_counts()"
   ]
  },
  {
   "cell_type": "markdown",
   "metadata": {
    "tags": []
   },
   "source": [
    "#### 2.3 Analyse categorical variables"
   ]
  },
  {
   "cell_type": "code",
   "execution_count": null,
   "metadata": {
    "tags": []
   },
   "outputs": [],
   "source": [
    "categorical_columns = [\n",
    "    \"CONSTRUCTION_ORIG\",\n",
    "    \"CABLE_COX2\"\n",
    "]\n",
    "\n",
    "for col in categorical_columns:\n",
    "    df.plot(\n",
    "        kind='hist',\n",
    "        x=col,\n",
    "        title=col\n",
    "    ).show()"
   ]
  },
  {
   "cell_type": "markdown",
   "metadata": {
    "tags": []
   },
   "source": [
    "#### 2.4 Analyse the distribution of the numerical variables"
   ]
  },
  {
   "cell_type": "code",
   "execution_count": null,
   "metadata": {
    "tags": []
   },
   "outputs": [],
   "source": [
    "df.plot(\n",
    "    kind=\"hist\",\n",
    "    x=\"AGE\"\n",
    ")"
   ]
  },
  {
   "cell_type": "code",
   "execution_count": null,
   "metadata": {
    "tags": []
   },
   "outputs": [],
   "source": [
    "df.plot(\n",
    "    kind=\"box\",\n",
    "    x=\"AGE\"\n",
    ")"
   ]
  },
  {
   "cell_type": "markdown",
   "metadata": {
    "tags": []
   },
   "source": [
    "#### 2.5 Check for missing data\n",
    "\n",
    "When training a model the quality of your data can be a limiting factor.\n",
    "Therefore, it is wise to check your data early on for completeness."
   ]
  },
  {
   "cell_type": "code",
   "execution_count": null,
   "metadata": {
    "tags": []
   },
   "outputs": [],
   "source": [
    "# Get insights in how many missing values (NULL or NANs) are in the dataset\n",
    "df_missing = pd.DataFrame(\n",
    "    data={\n",
    "        'NUM_MISSING': df.isna().sum(axis='rows'),\n",
    "        'NUM_TOTAL': len(df)\n",
    "    }\n",
    ")\n",
    "\n",
    "# Compute percentage missing\n",
    "df_missing['PCT_MISSING'] = df_missing['NUM_MISSING'] / df_missing['NUM_TOTAL']\n",
    "\n",
    "# Sort dataframe based on\n",
    "df_missing = df_missing.sort_values(by='PCT_MISSING', ascending=False)\n",
    "\n",
    "# Show the 'missing' dataframe\n",
    "df_missing"
   ]
  },
  {
   "cell_type": "code",
   "execution_count": null,
   "metadata": {
    "tags": []
   },
   "outputs": [],
   "source": [
    "# Visualize the results\n",
    "df_missing.plot(\n",
    "    kind='bar',\n",
    "    y='PCT_MISSING',\n",
    "    title=\"Missing Values\"\n",
    ")"
   ]
  },
  {
   "cell_type": "markdown",
   "metadata": {},
   "source": [
    "<a id=\"3\"></a> \n",
    "\n",
    "\n",
    "## 3. Data Preparation"
   ]
  },
  {
   "cell_type": "markdown",
   "metadata": {},
   "source": [
    "#### 3.1 Remove outliers"
   ]
  },
  {
   "cell_type": "code",
   "execution_count": null,
   "metadata": {
    "tags": []
   },
   "outputs": [],
   "source": [
    "# EXERCISE:\n",
    "# Based on your results in the exploration step, try to remove some absurd values (outliers) that might negatively impact a machine learning model.\n",
    "\n",
    "df = df[~(df[\"DEWATERING_DEPTH_CM\"] <= -30)]\n",
    "df = df[df[\"YEAR_CONSTRUCTION\"] > 1900]"
   ]
  },
  {
   "cell_type": "markdown",
   "metadata": {},
   "source": [
    "#### 3.2 Fill missing values\n",
    "\n",
    "Not all models can handle handle missing values in input variables: NaN/None/etc.\n",
    "In that case you have to come up with a strategy on how replace if you want to be able to use all variables."
   ]
  },
  {
   "cell_type": "code",
   "execution_count": null,
   "metadata": {
    "tags": []
   },
   "outputs": [],
   "source": [
    "# Fill numeric missing values with average\n",
    "df = df.fillna(df.mean(numeric_only=True))"
   ]
  },
  {
   "cell_type": "markdown",
   "metadata": {},
   "source": [
    "#### 3.3 Apply one-hot-encoding on caterogorical variables"
   ]
  },
  {
   "cell_type": "code",
   "execution_count": null,
   "metadata": {
    "tags": []
   },
   "outputs": [],
   "source": [
    "categorical_columns = [\n",
    "    \"CABLE_COX1\",\n",
    "    \"CABLE_COX2\",\n",
    "    \"CONSTRUCTION_ORIG\",\n",
    "    \"CONSTRUCTION_EXP\",\n",
    "    \"CONSTRUCTION_COX\",\n",
    "    \"GROUND_TYPE\"\n",
    "]\n",
    "\n",
    "df_prepped = pd.get_dummies(df, columns=categorical_columns)"
   ]
  },
  {
   "cell_type": "code",
   "execution_count": null,
   "metadata": {
    "tags": []
   },
   "outputs": [],
   "source": [
    "# Check the prepped dataframe\n",
    "df_prepped.head(10)"
   ]
  },
  {
   "cell_type": "markdown",
   "metadata": {
    "tags": []
   },
   "source": [
    "<a id=\"4\"></a> \n",
    "\n",
    "\n",
    "## 4. Analyse\n",
    "\n",
    "So far we have prepped the dataset and analysed the distributions of the variables.\n",
    "Before we start to train some models, it is a good idea to analyse the different relationships between the variables. \n",
    "Most importantly how they relate to the failure in cable-joints."
   ]
  },
  {
   "cell_type": "code",
   "execution_count": null,
   "metadata": {
    "tags": []
   },
   "outputs": [],
   "source": [
    "# EXERCISE: \n",
    "# Try make some useful figures to investigate the relationships between age-related variables and the amount of failures.\n",
    "df_prepped.plot(\n",
    "    kind=\"hist\",\n",
    "    x=\"AGE\",\n",
    "    color=\"FAILURE\"\n",
    ")"
   ]
  },
  {
   "cell_type": "code",
   "execution_count": null,
   "metadata": {
    "tags": []
   },
   "outputs": [],
   "source": [
    "# EXERCISE:\n",
    "# Now try to find a way to visualise the relations between the categorical variables and the failures of cable-joints.\n",
    "\n",
    "columns = [\n",
    "    \"COX1==COX2\",\n",
    "    \"SUBSIDENCE\"\n",
    "]\n",
    "\n",
    "plt.figure(figsize=(20, 140))\n",
    "for col in columns:\n",
    "    plt.figure()\n",
    "    sns.barplot(\n",
    "        x=df_prepped[col], \n",
    "        y=df_prepped[\"FAILURE\"], \n",
    "        palette='Blues'\n",
    "    )\n",
    "    plt.show()"
   ]
  },
  {
   "cell_type": "code",
   "execution_count": null,
   "metadata": {
    "tags": []
   },
   "outputs": [],
   "source": [
    "# EXERCISE: \n",
    "# Compute a correlation matrix for all the variables in the dataset. Select subsets to have clear overview, everything in one plot becomes quite unreadable.\n",
    "# What variables seem to be (strongly) correlated with \"FAILURE\" and with each other? Can you explain the relationships that you have found? And do they make sense?\n",
    "\n",
    "# Select the columns here\n",
    "columns = ['FAILURE'] + df_prepped.columns[2:20].to_list()\n",
    "\n",
    "# Compute correlation matrix\n",
    "corrmat = df_prepped[columns].corr().round(2)"
   ]
  },
  {
   "cell_type": "code",
   "execution_count": null,
   "metadata": {
    "tags": []
   },
   "outputs": [],
   "source": [
    "# Correlation matrix figure (with seaborn)\n",
    "sns.set(rc={'figure.figsize':(16, 16)})\n",
    "sns.heatmap(corrmat, vmax=.8, square=True, annot=True, cmap='RdBu_r')"
   ]
  },
  {
   "cell_type": "markdown",
   "metadata": {},
   "source": [
    "<a id=\"5\"></a> \n",
    "\n",
    "\n",
    "## 5. Split train- and testset\n",
    "In order to validate how good you machine learning model is able "
   ]
  },
  {
   "cell_type": "code",
   "execution_count": null,
   "metadata": {
    "tags": []
   },
   "outputs": [],
   "source": [
    "# EXERCISE: split the dataset into two dataframes one for training and the other for testing.\n",
    "df_train, df_test = sklearn.model_selection.train_test_split(df_prepped, train_size=0.8)"
   ]
  },
  {
   "cell_type": "markdown",
   "metadata": {},
   "source": [
    "<a id=\"6\"></a> \n",
    "## 6. Train models"
   ]
  },
  {
   "cell_type": "code",
   "execution_count": null,
   "metadata": {
    "tags": []
   },
   "outputs": [],
   "source": [
    "# In this dictionary we will save the trained models\n",
    "models = {}"
   ]
  },
  {
   "cell_type": "code",
   "execution_count": null,
   "metadata": {
    "tags": []
   },
   "outputs": [],
   "source": [
    "# Here we define our predictive variable\n",
    "y_var = \"FAILURE\"\n",
    "y_train = df_train[y_var]\n",
    "y_test = df_test[y_var]"
   ]
  },
  {
   "cell_type": "markdown",
   "metadata": {
    "jp-MarkdownHeadingCollapsed": true,
    "tags": []
   },
   "source": [
    "<a id=\"6a\"></a> \n",
    "## 6.1 Decision Tree\n",
    "\n",
    "For more information see: https://en.wikipedia.org/wiki/Decision_tree_learning\n",
    "\n",
    "For the documentation of the sklearn implementation see: https://scikit-learn.org/stable/modules/generated/sklearn.tree.DecisionTreeClassifier.html#sklearn.tree.DecisionTreeClassifier"
   ]
  },
  {
   "cell_type": "code",
   "execution_count": null,
   "metadata": {
    "tags": []
   },
   "outputs": [],
   "source": [
    "# Select the input variables for the model\n",
    "x_vars = [\n",
    "    \"CONSTRUCTION_EXP_Nekaldietmof\"\n",
    "]\n",
    "x_vars = [col for col in df_train.columns if col != y_var]\n",
    "\n",
    "x_train = df_train.loc[:, x_vars]\n",
    "x_test = df_test.loc[:, x_vars]"
   ]
  },
  {
   "cell_type": "code",
   "execution_count": null,
   "metadata": {
    "tags": []
   },
   "outputs": [],
   "source": [
    "# Fit model\n",
    "models[\"decision_tree\"] = sklearn.tree.DecisionTreeClassifier(\n",
    "    # Maximum depth of final tree (nr of levels)\n",
    "    max_depth=16,\n",
    "    # ...\n",
    "    min_samples_split=8,\n",
    "    # ...\n",
    "    min_samples_leaf=2\n",
    ").fit(x_train, y_train)"
   ]
  },
  {
   "cell_type": "markdown",
   "metadata": {
    "jp-MarkdownHeadingCollapsed": true,
    "tags": []
   },
   "source": [
    "<a id=\"6b\"></a> \n",
    "## 6.2 Random Forest "
   ]
  },
  {
   "cell_type": "code",
   "execution_count": null,
   "metadata": {
    "tags": []
   },
   "outputs": [],
   "source": [
    "# Select the input variables for the model\n",
    "x_vars = [\n",
    "    \"CONSTRUCTION_EXP_Nekaldietmof\"\n",
    "]\n",
    "x_vars = [col for col in df_train.columns if col != y_var]\n",
    "\n",
    "x_train = df_train.loc[:, x_vars]\n",
    "x_test = df_test.loc[:, x_vars]"
   ]
  },
  {
   "cell_type": "code",
   "execution_count": null,
   "metadata": {
    "tags": []
   },
   "outputs": [],
   "source": [
    "models[\"random_forest\"] = sklearn.ensemble.RandomForestClassifier(\n",
    "    # Number of trees\n",
    "    n_estimators=100,\n",
    "    # Max depth of a tree\n",
    "    max_depth=32\n",
    ").fit(x_train, y_train)"
   ]
  },
  {
   "cell_type": "markdown",
   "metadata": {
    "tags": []
   },
   "source": [
    "<a id=\"6v\"></a> \n",
    "## 6.3 XGBoost"
   ]
  },
  {
   "cell_type": "code",
   "execution_count": null,
   "metadata": {
    "tags": []
   },
   "outputs": [],
   "source": [
    "# Select the input variables for the model\n",
    "x_vars = [\n",
    "    \"CONSTRUCTION_EXP_Nekaldietmof\"\n",
    "]\n",
    "x_vars = [col for col in df_train.columns if col != y_var]\n",
    "\n",
    "x_train = df_train.loc[:, x_vars]\n",
    "x_test = df_test.loc[:, x_vars]"
   ]
  },
  {
   "cell_type": "code",
   "execution_count": null,
   "metadata": {
    "tags": []
   },
   "outputs": [],
   "source": [
    "models[\"xgboost\"] = xgb.XGBClassifier(\n",
    "    random_state=42\n",
    ").fit(x_train, y_train)"
   ]
  },
  {
   "cell_type": "markdown",
   "metadata": {},
   "source": [
    "<a id=\"7\"></a> \n",
    "## 7. Model Validation\n",
    "Now that we have trained a single or multiple models, we want to know how good it can predict the failure of cable-joints."
   ]
  },
  {
   "cell_type": "code",
   "execution_count": null,
   "metadata": {
    "tags": []
   },
   "outputs": [],
   "source": [
    "# List fitted models\n",
    "for model in models:\n",
    "    print(model)"
   ]
  },
  {
   "cell_type": "code",
   "execution_count": null,
   "metadata": {
    "tags": []
   },
   "outputs": [],
   "source": [
    "# We select the model we want to evaluate here\n",
    "clf = models[\"decision_tree\"]"
   ]
  },
  {
   "cell_type": "markdown",
   "metadata": {
    "jp-MarkdownHeadingCollapsed": true,
    "tags": []
   },
   "source": [
    "#### 7.1 Prediction on test-set"
   ]
  },
  {
   "cell_type": "code",
   "execution_count": null,
   "metadata": {
    "tags": []
   },
   "outputs": [],
   "source": [
    "# Predict on the test set (True/False for Failure/Non-failure)\n",
    "y_test_pred = clf.predict(x_test)"
   ]
  },
  {
   "cell_type": "code",
   "execution_count": null,
   "metadata": {
    "tags": []
   },
   "outputs": [],
   "source": [
    "# Predict probabilities as well\n",
    "y_test_pred_proba = clf.predict_proba(x_test)"
   ]
  },
  {
   "cell_type": "markdown",
   "metadata": {
    "jp-MarkdownHeadingCollapsed": true,
    "tags": []
   },
   "source": [
    "#### 7.2 Confusion Matrix"
   ]
  },
  {
   "cell_type": "code",
   "execution_count": null,
   "metadata": {
    "tags": []
   },
   "outputs": [],
   "source": [
    "# Confusion matrix\n",
    "cm = sklearn.metrics.confusion_matrix(\n",
    "    y_true=y_test,\n",
    "    y_pred=y_test_pred\n",
    ").T"
   ]
  },
  {
   "cell_type": "code",
   "execution_count": null,
   "metadata": {
    "tags": []
   },
   "outputs": [],
   "source": [
    "pd.DataFrame(cm).plot(\n",
    "    title=\"Confusion Matrix\",\n",
    "    kind=\"imshow\",\n",
    "    x=[\"Negative\", \"Positive\"],\n",
    "    y=[\"Negative\", \"Positive\"],\n",
    "    labels={\n",
    "        \"x\": \"Actual Values\",\n",
    "        \"y\": \"Predicted Values\"\n",
    "    },\n",
    "    text_auto=True\n",
    ")"
   ]
  },
  {
   "cell_type": "markdown",
   "metadata": {
    "jp-MarkdownHeadingCollapsed": true,
    "tags": []
   },
   "source": [
    "#### 7.3 Accuracy"
   ]
  },
  {
   "cell_type": "code",
   "execution_count": null,
   "metadata": {
    "tags": []
   },
   "outputs": [],
   "source": [
    "accuracy_score = sklearn.metrics.accuracy_score(y_test, y_test_pred)\n",
    "print(accuracy_score)"
   ]
  },
  {
   "cell_type": "markdown",
   "metadata": {
    "jp-MarkdownHeadingCollapsed": true,
    "tags": []
   },
   "source": [
    "#### 7.4 Precision / Recall curve and F1 score"
   ]
  },
  {
   "cell_type": "code",
   "execution_count": null,
   "metadata": {
    "tags": []
   },
   "outputs": [],
   "source": [
    "precision, recall, _ = sklearn.metrics.precision_recall_curve(y_test,  y_test_pred_proba[:, 1])\n",
    "pr_display = sklearn.metrics.PrecisionRecallDisplay(precision=precision, recall=recall).plot()"
   ]
  },
  {
   "cell_type": "code",
   "execution_count": null,
   "metadata": {
    "tags": []
   },
   "outputs": [],
   "source": [
    "# F1 score\n",
    "f1_score = sklearn.metrics.f1_score(y_test, y_test_pred)\n",
    "\n",
    "print(\"f1-score:\", f1_score)"
   ]
  },
  {
   "cell_type": "markdown",
   "metadata": {
    "jp-MarkdownHeadingCollapsed": true,
    "tags": []
   },
   "source": [
    "#### 7.5 ROC Curve and AUC score"
   ]
  },
  {
   "cell_type": "code",
   "execution_count": null,
   "metadata": {
    "tags": []
   },
   "outputs": [],
   "source": [
    "# Compute ROC curve\n",
    "fpr, tpr, t = sklearn.metrics.roc_curve(y_test, y_test_pred_proba[:, 1])\n",
    "\n",
    "# Visualize ROC curve\n",
    "sklearn.metrics.RocCurveDisplay(fpr=fpr, tpr=tpr).plot()"
   ]
  },
  {
   "cell_type": "code",
   "execution_count": null,
   "metadata": {
    "tags": []
   },
   "outputs": [],
   "source": [
    "auc_score = sklearn.metrics.auc(fpr, tpr)\n",
    "print(\"AUC score:\", auc_score)"
   ]
  },
  {
   "cell_type": "markdown",
   "metadata": {},
   "source": [
    "#### 7.x Optimal Cut-off point"
   ]
  },
  {
   "cell_type": "code",
   "execution_count": null,
   "metadata": {},
   "outputs": [],
   "source": [
    "# Cut off point optimalisation?"
   ]
  },
  {
   "cell_type": "markdown",
   "metadata": {
    "tags": []
   },
   "source": [
    "#### 7.x Feature Importance"
   ]
  },
  {
   "cell_type": "code",
   "execution_count": null,
   "metadata": {
    "tags": []
   },
   "outputs": [],
   "source": [
    "# Feature importance\n",
    "df_feature_importances = (\n",
    "    pd.DataFrame(\n",
    "        data={\n",
    "            \"FEATURE\": clf.feature_names_in_,\n",
    "            \"IMPORTANCE\": clf.feature_importances_\n",
    "        }\n",
    "    )\n",
    "    .sort_values(\n",
    "        by=\"IMPORTANCE\", \n",
    "        ignore_index=True,\n",
    "        ascending=False\n",
    "    )\n",
    "    .head(10)\n",
    ")\n",
    "\n",
    "df_feature_importances.plot(\n",
    "    title=\"Feature Importances (Top 10)\",\n",
    "    kind=\"bar\", \n",
    "    x=\"IMPORTANCE\", \n",
    "    y=\"FEATURE\",\n",
    ")"
   ]
  },
  {
   "cell_type": "markdown",
   "metadata": {},
   "source": [
    "#### 7.x Model Visualisation"
   ]
  },
  {
   "cell_type": "markdown",
   "metadata": {},
   "source": [
    "<a id=\"8\"></a> \n",
    "## 8. Conclusion"
   ]
  },
  {
   "cell_type": "code",
   "execution_count": null,
   "metadata": {
    "tags": []
   },
   "outputs": [],
   "source": [
    "# What are the top 200 cable-joints with the worst condition according to your model? How many of them could did actually fail?"
   ]
  },
  {
   "cell_type": "code",
   "execution_count": null,
   "metadata": {},
   "outputs": [],
   "source": [
    "# Can you explain why some models seem to be able to predict better on this dataset than others?"
   ]
  }
 ],
 "metadata": {
  "kernelspec": {
   "display_name": "Python 3 (ipykernel)",
   "language": "python",
   "name": "python3"
  },
  "language_info": {
   "codemirror_mode": {
    "name": "ipython",
    "version": 3
   },
   "file_extension": ".py",
   "mimetype": "text/x-python",
   "name": "python",
   "nbconvert_exporter": "python",
   "pygments_lexer": "ipython3",
   "version": "3.8.10"
  }
 },
 "nbformat": 4,
 "nbformat_minor": 4
}
